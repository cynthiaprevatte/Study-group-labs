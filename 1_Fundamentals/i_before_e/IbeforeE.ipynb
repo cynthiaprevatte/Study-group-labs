{
 "cells": [
  {
   "cell_type": "code",
   "execution_count": 35,
   "metadata": {
    "collapsed": true
   },
   "outputs": [],
   "source": [
    "def check(word):\n",
    "    for i, char in enumerate(word):\n",
    "        if i == len(word)-1:\n",
    "            break\n",
    "        next_char = word[i+1]\n",
    "        print(next_char)\n",
    "        prev = word[i-1]\n",
    "        next_two = word[i+1:i+2]\n",
    "\n",
    "        if char == 'c':\n",
    "            if next_two == 'ie':\n",
    "                message = '{} doesn\\'t follow the rule'.format(word)\n",
    "                break\n",
    "            elif next_two == 'ei':\n",
    "                message = '{} does follow the rule.'.format(word)\n",
    "                break\n",
    "        elif char == 'i' and next_char == 'e' and prev != 'c':\n",
    "            message = '{} does follow the rule.'.format(word)\n",
    "            break\n",
    "        elif char == 'e' and next_char == 'i' and prev != 'c':\n",
    "            message = '{} doesn\\'t follow the rule, e is before i'.format(word)\n",
    "            break\n",
    "        else:\n",
    "            message = '{} does not apply to this test.'.format(word)\n",
    "\n",
    "    print(message)"
   ]
  },
  {
   "cell_type": "code",
   "execution_count": 36,
   "metadata": {
    "collapsed": false
   },
   "outputs": [
    {
     "name": "stdout",
     "output_type": "stream",
     "text": [
      "i\n",
      "i\n",
      "o\n",
      "c\n",
      "h\n",
      "j\n",
      "w\n",
      "k\n",
      "h\n",
      "f\n",
      "k\n",
      "j\n",
      "e\n",
      "h\n",
      "f\n",
      "k\n",
      "j\n",
      "e\n",
      "i\n",
      "iiiochjwkhfkjehfkjeikjhkjh doesn't follow the rule, e is before i\n"
     ]
    }
   ],
   "source": [
    "check('iiiochjwkhfkjehfkjeikjhkjh')"
   ]
  },
  {
   "cell_type": "code",
   "execution_count": 30,
   "metadata": {
    "collapsed": true
   },
   "outputs": [],
   "source": [
    "def check(word):\n",
    "    ie_in_word = 'ie' in word\n",
    "    ei_in_word = 'ei' in word\n",
    "    \n",
    "    if ie_in_word:\n",
    "        location = word.index('ie')\n",
    "        \n",
    "        if c_before_ie:\n",
    "            print('Does not follow ,use ei')\n",
    "            \n",
    "        else:\n",
    "            print('Follows the rule.')\n",
    "    \n",
    "        c_before_ie =  'c' in word[:location]\n",
    "        return \n",
    "    \n",
    "    elif ei_in_word:\n",
    "        location = word.index('ei')\n",
    "        \n",
    "    else:\n",
    "        raise ValueError('Word {} not applicable.'.format(word))\n",
    " "
   ]
  },
  {
   "cell_type": "code",
   "execution_count": 31,
   "metadata": {
    "collapsed": false
   },
   "outputs": [],
   "source": [
    "check('receive')"
   ]
  },
  {
   "cell_type": "code",
   "execution_count": 45,
   "metadata": {
    "collapsed": true
   },
   "outputs": [],
   "source": [
    "def check_yoself(word):\n",
    "    exceptions = ['science', 'weird',]\n",
    "    if 'cei' in word:\n",
    "        result = True\n",
    "    elif 'cie' in word:\n",
    "        result = False\n",
    "    elif 'ei' in word:\n",
    "        result = False\n",
    "    elif 'ie' in word:\n",
    "        result = True\n",
    "    \n",
    "    return result"
   ]
  },
  {
   "cell_type": "code",
   "execution_count": 50,
   "metadata": {
    "collapsed": false
   },
   "outputs": [
    {
     "data": {
      "text/plain": [
       "False"
      ]
     },
     "execution_count": 50,
     "metadata": {},
     "output_type": "execute_result"
    }
   ],
   "source": [
    "check_yoself('science')"
   ]
  },
  {
   "cell_type": "code",
   "execution_count": null,
   "metadata": {
    "collapsed": true
   },
   "outputs": [],
   "source": []
  }
 ],
 "metadata": {
  "anaconda-cloud": {},
  "kernelspec": {
   "display_name": "Python [conda root]",
   "language": "python",
   "name": "conda-root-py"
  },
  "language_info": {
   "codemirror_mode": {
    "name": "ipython",
    "version": 3
   },
   "file_extension": ".py",
   "mimetype": "text/x-python",
   "name": "python",
   "nbconvert_exporter": "python",
   "pygments_lexer": "ipython3",
   "version": "3.5.2"
  }
 },
 "nbformat": 4,
 "nbformat_minor": 1
}
